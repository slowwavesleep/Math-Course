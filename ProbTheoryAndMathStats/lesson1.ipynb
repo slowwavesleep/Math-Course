{
 "cells": [
  {
   "cell_type": "markdown",
   "metadata": {},
   "source": [
    "##### Задание 1 \n",
    "Из колоды в 52 карты извлекаются случайным образом 4 карты. Найти вероятность того, что все карты – крести. Найти вероятность, что среди этих карт окажется хотя бы один туз."
   ]
  },
  {
   "cell_type": "code",
   "execution_count": 1,
   "metadata": {},
   "outputs": [],
   "source": [
    "import itertools\n",
    "import random\n",
    "from decimal import Decimal"
   ]
  },
  {
   "cell_type": "markdown",
   "metadata": {},
   "source": [
    "В колоде 13 карт каждой масти и 4 позиции, которые нужно заполнить. Карты обратно в колоду не возращаются, поэтому веротность того, что в первой позиции будет карта масти крести – 13/52, во второй 12/51 и т.д. По правилу умножения получаем следующий результат: "
   ]
  },
  {
   "cell_type": "code",
   "execution_count": 2,
   "metadata": {},
   "outputs": [
    {
     "data": {
      "text/plain": [
       "0.0026410564225690276"
      ]
     },
     "execution_count": 2,
     "metadata": {},
     "output_type": "execute_result"
    }
   ],
   "source": [
    "clubs_probability = float(Decimal(13/52) * Decimal(12/51) * Decimal(11/50) * Decimal (10/49))\n",
    "clubs_probability"
   ]
  },
  {
   "cell_type": "markdown",
   "metadata": {},
   "source": [
    "Вероятность того, что карта является тузом для каждой из позиций в данной в выборке – 1/13, т.к. туз в каждой масти только один и мы уже выбрали карты одной масти. Всего у нас 4 позиции, при этом нас не интересует в какой именно окажется туз, следовательно, вероятность того, что одной из этих карт окажется туз – 4/13. Результат получаем, умножив данную вероятность на вероятность того, что все карты крести."
   ]
  },
  {
   "cell_type": "markdown",
   "metadata": {},
   "source": [
    "Другими словами, у нас 4 взаимоисключающий события (все карты крести и туз в позиции 1/2/3/4), у каждого из которых вероятность clubs_probability * 1/13. Далее мы их просто складываем."
   ]
  },
  {
   "cell_type": "code",
   "execution_count": 3,
   "metadata": {},
   "outputs": [
    {
     "data": {
      "text/plain": [
       "0.0008126327454058546"
      ]
     },
     "execution_count": 3,
     "metadata": {},
     "output_type": "execute_result"
    }
   ],
   "source": [
    "clubs_probability * 4/13"
   ]
  },
  {
   "cell_type": "markdown",
   "metadata": {},
   "source": [
    "Убедимся в верности полученного результата, используя метод Монте-Карло:"
   ]
  },
  {
   "cell_type": "code",
   "execution_count": 4,
   "metadata": {},
   "outputs": [],
   "source": [
    "cards = ('Ace', '2', '3', '4', '5', '6', '7', '8', '9', '10', 'Jack', 'Queen', 'King')\n",
    "suits = ('Hearts', 'Diamonds', 'Clubs', 'Spades')"
   ]
  },
  {
   "cell_type": "code",
   "execution_count": 5,
   "metadata": {},
   "outputs": [
    {
     "data": {
      "text/plain": [
       "52"
      ]
     },
     "execution_count": 5,
     "metadata": {},
     "output_type": "execute_result"
    }
   ],
   "source": [
    "deck = tuple(itertools.product(cards, suits))\n",
    "len(deck)"
   ]
  },
  {
   "cell_type": "code",
   "execution_count": 6,
   "metadata": {},
   "outputs": [
    {
     "name": "stdout",
     "output_type": "stream",
     "text": [
      "0.002623 0.000812\n"
     ]
    }
   ],
   "source": [
    "count = 0\n",
    "aces = 0\n",
    "tests = 1_000_000\n",
    "for i in range(tests):\n",
    "    suits_selection = random.sample(deck, 4)\n",
    "    if suits_selection[0][1] == suits_selection[1][1] == suits_selection[2][1] == suits_selection[3][1] == 'Clubs':\n",
    "        count += 1\n",
    "        if (suits_selection[0][0] == 'Ace' or\n",
    "        suits_selection[1][0] == 'Ace' or\n",
    "        suits_selection[2][0] == 'Ace' or\n",
    "        suits_selection[3][0] == 'Ace'):\n",
    "            aces += 1\n",
    "print(count/tests, aces/tests)"
   ]
  },
  {
   "cell_type": "markdown",
   "metadata": {},
   "source": [
    "Если же нам нужно посчитать вероятность того, что выбирая 4 карты любой масти, хотя бы одна из карт окажется тузом, то это можно сделать следующим образом:"
   ]
  },
  {
   "cell_type": "code",
   "execution_count": 17,
   "metadata": {},
   "outputs": [
    {
     "data": {
      "text/plain": [
       "Decimal('0.2812632745405854203182804181')"
      ]
     },
     "execution_count": 17,
     "metadata": {},
     "output_type": "execute_result"
    }
   ],
   "source": [
    "# Полная вероятность равна единице, а из неё мы вычитаем вероятность того, что не выбрано ни одного туза\n",
    "1 - (Decimal(48/52) * Decimal(47/51) * Decimal(46/50) * Decimal(45/49))"
   ]
  },
  {
   "cell_type": "code",
   "execution_count": 18,
   "metadata": {},
   "outputs": [
    {
     "name": "stdout",
     "output_type": "stream",
     "text": [
      "0.2811046\n"
     ]
    }
   ],
   "source": [
    "aces = 0\n",
    "tests = 5_000_000\n",
    "for i in range(tests):\n",
    "    suits_selection = random.sample(deck, 4)\n",
    "    if (suits_selection[0][0] == 'Ace' or\n",
    "        suits_selection[1][0] == 'Ace' or\n",
    "        suits_selection[2][0] == 'Ace' or\n",
    "        suits_selection[3][0] == 'Ace'):\n",
    "        aces += 1\n",
    "print(aces/tests)"
   ]
  },
  {
   "cell_type": "markdown",
   "metadata": {},
   "source": [
    "#### Задание 2\n",
    "На входной двери подъезда установлен кодовый замок, содержащий десять кнопок с цифрами от 0 до 9. Код содержит три цифры, которые нужно нажать одновременно. Какова вероятность того, что человек, не знающий код, откроет дверь с первой попытки?"
   ]
  },
  {
   "cell_type": "markdown",
   "metadata": {},
   "source": [
    "Суммарное количество комбинаций можно посчитать по формуле (кнопки нужно нажимать одновременно, значит порядок не важен, а повторений быть не может):"
   ]
  },
  {
   "cell_type": "markdown",
   "metadata": {},
   "source": [
    "$$\\frac{n!}{k!(n-k)!}$$"
   ]
  },
  {
   "cell_type": "markdown",
   "metadata": {},
   "source": [
    "Где n = 10 (количество цифр), а к = 3 (количество позиций). Тогда:"
   ]
  },
  {
   "cell_type": "code",
   "execution_count": 33,
   "metadata": {},
   "outputs": [
    {
     "data": {
      "text/plain": [
       "120.0"
      ]
     },
     "execution_count": 33,
     "metadata": {},
     "output_type": "execute_result"
    }
   ],
   "source": [
    "lock_combs = (10 * 9 * 8) / (2 * 3)\n",
    "lock_combs"
   ]
  },
  {
   "cell_type": "markdown",
   "metadata": {},
   "source": [
    "Очевидно, что правильная комбинация только одна, поэтому вероятность её случайно угадать с первой попытки:"
   ]
  },
  {
   "cell_type": "code",
   "execution_count": 34,
   "metadata": {},
   "outputs": [
    {
     "data": {
      "text/plain": [
       "0.008333333333333333"
      ]
     },
     "execution_count": 34,
     "metadata": {},
     "output_type": "execute_result"
    }
   ],
   "source": [
    "1/lock_combs"
   ]
  },
  {
   "cell_type": "code",
   "execution_count": 35,
   "metadata": {},
   "outputs": [
    {
     "data": {
      "text/plain": [
       "120"
      ]
     },
     "execution_count": 35,
     "metadata": {},
     "output_type": "execute_result"
    }
   ],
   "source": [
    "combs = tuple(itertools.combinations(range(10), 3))\n",
    "len(combs)"
   ]
  },
  {
   "cell_type": "code",
   "execution_count": 37,
   "metadata": {},
   "outputs": [
    {
     "name": "stdout",
     "output_type": "stream",
     "text": [
      "0.008333\n"
     ]
    }
   ],
   "source": [
    "tests = 1_000_000\n",
    "comb = 1, 2, 3 # произвольная \"правильная\" комбинация\n",
    "count = 0\n",
    "for i in range(tests):\n",
    "    if random.choice(combs) == comb:\n",
    "        count += 1\n",
    "print(count/tests)"
   ]
  },
  {
   "cell_type": "markdown",
   "metadata": {},
   "source": [
    "#### Задание 3\n",
    "В ящике имеется 15 деталей, из которых 9 окрашены. Рабочий случайным образом извлекает 3 детали. Какова вероятность того, что все извлеченные детали окрашены?"
   ]
  },
  {
   "cell_type": "markdown",
   "metadata": {},
   "source": [
    "Так же, как и в первой задаче: вероятность того, что первая деталь окрашена – 9/15, второй – 8/14, третьей 7/13. Эти вероятности мы просто перемножаем:"
   ]
  },
  {
   "cell_type": "code",
   "execution_count": 70,
   "metadata": {},
   "outputs": [
    {
     "data": {
      "text/plain": [
       "0.1846153846153846"
      ]
     },
     "execution_count": 70,
     "metadata": {},
     "output_type": "execute_result"
    }
   ],
   "source": [
    "float(Decimal(9/15) * Decimal(8/14) * Decimal(7/13))"
   ]
  },
  {
   "cell_type": "markdown",
   "metadata": {},
   "source": [
    "Проверка:"
   ]
  },
  {
   "cell_type": "code",
   "execution_count": 82,
   "metadata": {},
   "outputs": [
    {
     "data": {
      "text/plain": [
       "15"
      ]
     },
     "execution_count": 82,
     "metadata": {},
     "output_type": "execute_result"
    }
   ],
   "source": [
    "parts = ('colored', ) * 9 + ('uncolored', ) * 6\n",
    "len(parts)"
   ]
  },
  {
   "cell_type": "code",
   "execution_count": 86,
   "metadata": {},
   "outputs": [
    {
     "name": "stdout",
     "output_type": "stream",
     "text": [
      "0.184849\n"
     ]
    }
   ],
   "source": [
    "tests = 1_000_000\n",
    "count = 0\n",
    "for i in range(tests):\n",
    "    selection = random.sample(parts, 3)\n",
    "    if selection[0] == selection[1] == selection[2] == 'colored':\n",
    "        count += 1\n",
    "print(count/tests)"
   ]
  },
  {
   "cell_type": "markdown",
   "metadata": {},
   "source": [
    "#### Задание 4\n",
    "В лотерее 100 билетов. Из них 2 выигрышных. Какова вероятность того, что 2 приобретенных билета окажутся выигрышными?"
   ]
  },
  {
   "cell_type": "markdown",
   "metadata": {},
   "source": [
    "Вероятность приобрести выигрышный билет – 2/100, вероятность того, что второй приобретённый билет тоже окажется выигрышным – 1/99."
   ]
  },
  {
   "cell_type": "code",
   "execution_count": 92,
   "metadata": {},
   "outputs": [
    {
     "data": {
      "text/plain": [
       "Decimal('0.0002020202020202020415794206130')"
      ]
     },
     "execution_count": 92,
     "metadata": {},
     "output_type": "execute_result"
    }
   ],
   "source": [
    "Decimal(2/100) * Decimal(1/99)"
   ]
  },
  {
   "cell_type": "code",
   "execution_count": 93,
   "metadata": {},
   "outputs": [],
   "source": [
    "tickets = ('winning', ) * 2 + ('other', ) * 98"
   ]
  },
  {
   "cell_type": "code",
   "execution_count": 98,
   "metadata": {},
   "outputs": [
    {
     "name": "stdout",
     "output_type": "stream",
     "text": [
      "0.0002054\n"
     ]
    }
   ],
   "source": [
    "tests = 5_000_000\n",
    "count = 0\n",
    "for i in range(tests):\n",
    "    selection = random.sample(tickets, 2)\n",
    "    if selection[0] == selection[1] == 'winning':\n",
    "        count += 1\n",
    "print(count/tests)"
   ]
  },
  {
   "cell_type": "code",
   "execution_count": null,
   "metadata": {},
   "outputs": [],
   "source": []
  }
 ],
 "metadata": {
  "kernelspec": {
   "display_name": "Python 3",
   "language": "python",
   "name": "python3"
  },
  "language_info": {
   "codemirror_mode": {
    "name": "ipython",
    "version": 3
   },
   "file_extension": ".py",
   "mimetype": "text/x-python",
   "name": "python",
   "nbconvert_exporter": "python",
   "pygments_lexer": "ipython3",
   "version": "3.7.1"
  }
 },
 "nbformat": 4,
 "nbformat_minor": 2
}
