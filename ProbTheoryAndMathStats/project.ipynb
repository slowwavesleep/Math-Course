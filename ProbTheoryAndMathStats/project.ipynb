{
 "cells": [
  {
   "cell_type": "code",
   "execution_count": 15,
   "metadata": {},
   "outputs": [],
   "source": [
    "import pandas as pd\n",
    "import numpy as np\n",
    "import MySQLdb\n",
    "import pandas.io.sql as psql\n",
    "import sqlalchemy as sql\n",
    "import matplotlib.pyplot as plt"
   ]
  },
  {
   "cell_type": "code",
   "execution_count": 2,
   "metadata": {},
   "outputs": [],
   "source": [
    "with open('db.txt') as file:\n",
    "    auth = file.read().split(',')\n",
    "    user, password, adress = auth[0], auth[1], auth[2]"
   ]
  },
  {
   "cell_type": "code",
   "execution_count": 3,
   "metadata": {},
   "outputs": [],
   "source": [
    "connect_string = f'mysql://{user}:{password}@{adress}/movies?charset=utf8'"
   ]
  },
  {
   "cell_type": "code",
   "execution_count": 4,
   "metadata": {},
   "outputs": [],
   "source": [
    "sql_engine = sql.create_engine(connect_string)"
   ]
  },
  {
   "cell_type": "code",
   "execution_count": 5,
   "metadata": {},
   "outputs": [],
   "source": [
    "box_office = pd.read_sql('SELECT * FROM `movies`.`matched_bx`', sql_engine)\n",
    "box_office = box_office.drop_duplicates(subset='primaryTitle')"
   ]
  },
  {
   "cell_type": "markdown",
   "metadata": {},
   "source": [
    "Здесь отбираем только сценаристов, режисёров и продюссеров, т.к. предполагаем, что они вносят наибольший вклад в успешность фильма."
   ]
  },
  {
   "cell_type": "code",
   "execution_count": 9,
   "metadata": {},
   "outputs": [],
   "source": [
    "names = pd.read_sql('SELECT * FROM `movies`.`name_basics`', sql_engine) # writer, producer, director"
   ]
  },
  {
   "cell_type": "code",
   "execution_count": 10,
   "metadata": {},
   "outputs": [],
   "source": [
    "crew = pd.read_sql('SELECT * FROM `movies`.`title_principals`', sql_engine) # writer, producer, director"
   ]
  },
  {
   "cell_type": "code",
   "execution_count": 11,
   "metadata": {},
   "outputs": [
    {
     "data": {
      "text/html": [
       "<div>\n",
       "<style scoped>\n",
       "    .dataframe tbody tr th:only-of-type {\n",
       "        vertical-align: middle;\n",
       "    }\n",
       "\n",
       "    .dataframe tbody tr th {\n",
       "        vertical-align: top;\n",
       "    }\n",
       "\n",
       "    .dataframe thead th {\n",
       "        text-align: right;\n",
       "    }\n",
       "</style>\n",
       "<table border=\"1\" class=\"dataframe\">\n",
       "  <thead>\n",
       "    <tr style=\"text-align: right;\">\n",
       "      <th></th>\n",
       "      <th>RTCritic</th>\n",
       "      <th>RTFan</th>\n",
       "      <th>Metacritic</th>\n",
       "      <th>BoxOffice</th>\n",
       "      <th>Year</th>\n",
       "      <th>primaryTitle</th>\n",
       "      <th>tconst</th>\n",
       "    </tr>\n",
       "  </thead>\n",
       "  <tbody>\n",
       "    <tr>\n",
       "      <th>0</th>\n",
       "      <td>34</td>\n",
       "      <td>67</td>\n",
       "      <td>33</td>\n",
       "      <td>40119709</td>\n",
       "      <td>2002</td>\n",
       "      <td>Resident Evil</td>\n",
       "      <td>tt0120804</td>\n",
       "    </tr>\n",
       "    <tr>\n",
       "      <th>1</th>\n",
       "      <td>39</td>\n",
       "      <td>45</td>\n",
       "      <td>49</td>\n",
       "      <td>190418803</td>\n",
       "      <td>2002</td>\n",
       "      <td>Men in Black II</td>\n",
       "      <td>tt0120912</td>\n",
       "    </tr>\n",
       "    <tr>\n",
       "      <th>2</th>\n",
       "      <td>66</td>\n",
       "      <td>57</td>\n",
       "      <td>54</td>\n",
       "      <td>310676740</td>\n",
       "      <td>2002</td>\n",
       "      <td>Star Wars: Episode II - Attack of the Clones</td>\n",
       "      <td>tt0121765</td>\n",
       "    </tr>\n",
       "    <tr>\n",
       "      <th>3</th>\n",
       "      <td>69</td>\n",
       "      <td>70</td>\n",
       "      <td>60</td>\n",
       "      <td>38120554</td>\n",
       "      <td>2002</td>\n",
       "      <td>Treasure Planet</td>\n",
       "      <td>tt0133240</td>\n",
       "    </tr>\n",
       "    <tr>\n",
       "      <th>4</th>\n",
       "      <td>35</td>\n",
       "      <td>70</td>\n",
       "      <td>47</td>\n",
       "      <td>42656255</td>\n",
       "      <td>2015</td>\n",
       "      <td>Max</td>\n",
       "      <td>tt0161539</td>\n",
       "    </tr>\n",
       "  </tbody>\n",
       "</table>\n",
       "</div>"
      ],
      "text/plain": [
       "   RTCritic  RTFan  Metacritic  BoxOffice  Year  \\\n",
       "0        34     67          33   40119709  2002   \n",
       "1        39     45          49  190418803  2002   \n",
       "2        66     57          54  310676740  2002   \n",
       "3        69     70          60   38120554  2002   \n",
       "4        35     70          47   42656255  2015   \n",
       "\n",
       "                                   primaryTitle     tconst  \n",
       "0                                 Resident Evil  tt0120804  \n",
       "1                               Men in Black II  tt0120912  \n",
       "2  Star Wars: Episode II - Attack of the Clones  tt0121765  \n",
       "3                               Treasure Planet  tt0133240  \n",
       "4                                           Max  tt0161539  "
      ]
     },
     "execution_count": 11,
     "metadata": {},
     "output_type": "execute_result"
    }
   ],
   "source": [
    "box_office.head()"
   ]
  },
  {
   "cell_type": "markdown",
   "metadata": {},
   "source": [
    "Предсказуемо, кассовые сборы в наибольшей степени коррелируют со зрительской оценкой."
   ]
  },
  {
   "cell_type": "code",
   "execution_count": 12,
   "metadata": {},
   "outputs": [
    {
     "data": {
      "text/html": [
       "<div>\n",
       "<style scoped>\n",
       "    .dataframe tbody tr th:only-of-type {\n",
       "        vertical-align: middle;\n",
       "    }\n",
       "\n",
       "    .dataframe tbody tr th {\n",
       "        vertical-align: top;\n",
       "    }\n",
       "\n",
       "    .dataframe thead th {\n",
       "        text-align: right;\n",
       "    }\n",
       "</style>\n",
       "<table border=\"1\" class=\"dataframe\">\n",
       "  <thead>\n",
       "    <tr style=\"text-align: right;\">\n",
       "      <th></th>\n",
       "      <th>RTCritic</th>\n",
       "      <th>RTFan</th>\n",
       "      <th>Metacritic</th>\n",
       "      <th>BoxOffice</th>\n",
       "      <th>Year</th>\n",
       "    </tr>\n",
       "  </thead>\n",
       "  <tbody>\n",
       "    <tr>\n",
       "      <th>RTCritic</th>\n",
       "      <td>1.000000</td>\n",
       "      <td>0.716962</td>\n",
       "      <td>0.938027</td>\n",
       "      <td>0.211661</td>\n",
       "      <td>0.023295</td>\n",
       "    </tr>\n",
       "    <tr>\n",
       "      <th>RTFan</th>\n",
       "      <td>0.716962</td>\n",
       "      <td>1.000000</td>\n",
       "      <td>0.659671</td>\n",
       "      <td>0.248105</td>\n",
       "      <td>-0.043594</td>\n",
       "    </tr>\n",
       "    <tr>\n",
       "      <th>Metacritic</th>\n",
       "      <td>0.938027</td>\n",
       "      <td>0.659671</td>\n",
       "      <td>1.000000</td>\n",
       "      <td>0.194480</td>\n",
       "      <td>0.018704</td>\n",
       "    </tr>\n",
       "    <tr>\n",
       "      <th>BoxOffice</th>\n",
       "      <td>0.211661</td>\n",
       "      <td>0.248105</td>\n",
       "      <td>0.194480</td>\n",
       "      <td>1.000000</td>\n",
       "      <td>0.024313</td>\n",
       "    </tr>\n",
       "    <tr>\n",
       "      <th>Year</th>\n",
       "      <td>0.023295</td>\n",
       "      <td>-0.043594</td>\n",
       "      <td>0.018704</td>\n",
       "      <td>0.024313</td>\n",
       "      <td>1.000000</td>\n",
       "    </tr>\n",
       "  </tbody>\n",
       "</table>\n",
       "</div>"
      ],
      "text/plain": [
       "            RTCritic     RTFan  Metacritic  BoxOffice      Year\n",
       "RTCritic    1.000000  0.716962    0.938027   0.211661  0.023295\n",
       "RTFan       0.716962  1.000000    0.659671   0.248105 -0.043594\n",
       "Metacritic  0.938027  0.659671    1.000000   0.194480  0.018704\n",
       "BoxOffice   0.211661  0.248105    0.194480   1.000000  0.024313\n",
       "Year        0.023295 -0.043594    0.018704   0.024313  1.000000"
      ]
     },
     "execution_count": 12,
     "metadata": {},
     "output_type": "execute_result"
    }
   ],
   "source": [
    "box_office.corr()"
   ]
  },
  {
   "cell_type": "code",
   "execution_count": 37,
   "metadata": {},
   "outputs": [
    {
     "data": {
      "text/html": [
       "<div>\n",
       "<style scoped>\n",
       "    .dataframe tbody tr th:only-of-type {\n",
       "        vertical-align: middle;\n",
       "    }\n",
       "\n",
       "    .dataframe tbody tr th {\n",
       "        vertical-align: top;\n",
       "    }\n",
       "\n",
       "    .dataframe thead th {\n",
       "        text-align: right;\n",
       "    }\n",
       "</style>\n",
       "<table border=\"1\" class=\"dataframe\">\n",
       "  <thead>\n",
       "    <tr style=\"text-align: right;\">\n",
       "      <th></th>\n",
       "      <th>RTCritic</th>\n",
       "      <th>RTFan</th>\n",
       "      <th>Metacritic</th>\n",
       "      <th>BoxOffice</th>\n",
       "      <th>Year</th>\n",
       "      <th>primaryTitle</th>\n",
       "      <th>tconst</th>\n",
       "    </tr>\n",
       "  </thead>\n",
       "  <tbody>\n",
       "    <tr>\n",
       "      <th>70</th>\n",
       "      <td>54</td>\n",
       "      <td>72</td>\n",
       "      <td>53</td>\n",
       "      <td>423315812</td>\n",
       "      <td>2006</td>\n",
       "      <td>Pirates of the Caribbean: Dead Man's Chest</td>\n",
       "      <td>tt0383574</td>\n",
       "    </tr>\n",
       "  </tbody>\n",
       "</table>\n",
       "</div>"
      ],
      "text/plain": [
       "    RTCritic  RTFan  Metacritic  BoxOffice  Year  \\\n",
       "70        54     72          53  423315812  2006   \n",
       "\n",
       "                                  primaryTitle     tconst  \n",
       "70  Pirates of the Caribbean: Dead Man's Chest  tt0383574  "
      ]
     },
     "execution_count": 37,
     "metadata": {},
     "output_type": "execute_result"
    }
   ],
   "source": [
    "box_office.loc[box_office.BoxOffice == box_office.BoxOffice.max()]"
   ]
  },
  {
   "cell_type": "code",
   "execution_count": 45,
   "metadata": {},
   "outputs": [
    {
     "data": {
      "text/html": [
       "<div>\n",
       "<style scoped>\n",
       "    .dataframe tbody tr th:only-of-type {\n",
       "        vertical-align: middle;\n",
       "    }\n",
       "\n",
       "    .dataframe tbody tr th {\n",
       "        vertical-align: top;\n",
       "    }\n",
       "\n",
       "    .dataframe thead th {\n",
       "        text-align: right;\n",
       "    }\n",
       "</style>\n",
       "<table border=\"1\" class=\"dataframe\">\n",
       "  <thead>\n",
       "    <tr style=\"text-align: right;\">\n",
       "      <th></th>\n",
       "      <th>RTCritic</th>\n",
       "      <th>RTFan</th>\n",
       "      <th>Metacritic</th>\n",
       "      <th>BoxOffice</th>\n",
       "      <th>Year</th>\n",
       "      <th>primaryTitle</th>\n",
       "      <th>tconst</th>\n",
       "    </tr>\n",
       "  </thead>\n",
       "  <tbody>\n",
       "    <tr>\n",
       "      <th>258</th>\n",
       "      <td>39</td>\n",
       "      <td>24</td>\n",
       "      <td>42</td>\n",
       "      <td>17472</td>\n",
       "      <td>2015</td>\n",
       "      <td>Strangerland</td>\n",
       "      <td>tt2325977</td>\n",
       "    </tr>\n",
       "  </tbody>\n",
       "</table>\n",
       "</div>"
      ],
      "text/plain": [
       "     RTCritic  RTFan  Metacritic  BoxOffice  Year  primaryTitle     tconst\n",
       "258        39     24          42      17472  2015  Strangerland  tt2325977"
      ]
     },
     "execution_count": 45,
     "metadata": {},
     "output_type": "execute_result"
    }
   ],
   "source": [
    "box_office.loc[box_office.BoxOffice == box_office.BoxOffice.min()]"
   ]
  },
  {
   "cell_type": "markdown",
   "metadata": {},
   "source": [
    "Средние кассовые сборы"
   ]
  },
  {
   "cell_type": "code",
   "execution_count": 23,
   "metadata": {},
   "outputs": [
    {
     "name": "stdout",
     "output_type": "stream",
     "text": [
      "64.45 Million\n"
     ]
    }
   ],
   "source": [
    "print(f'{box_office.BoxOffice.mean()/1_000_000:.2f} Million')"
   ]
  },
  {
   "cell_type": "markdown",
   "metadata": {},
   "source": [
    "Среднеквадратичное отклонение. Очевидно, что данный параметр варьируется очень сильно."
   ]
  },
  {
   "cell_type": "code",
   "execution_count": 26,
   "metadata": {},
   "outputs": [
    {
     "name": "stdout",
     "output_type": "stream",
     "text": [
      "77.99 Million\n"
     ]
    }
   ],
   "source": [
    "print(f'{box_office.BoxOffice.std()/1_000_000:.2f} Million')"
   ]
  },
  {
   "cell_type": "code",
   "execution_count": 23,
   "metadata": {},
   "outputs": [
    {
     "data": {
      "image/png": "[encoded data removed]",
      "text/plain": [
       "<Figure size 432x288 with 1 Axes>"
      ]
     },
     "metadata": {
      "needs_background": "light"
     },
     "output_type": "display_data"
    }
   ],
   "source": [
    "plt.hist(box_office.BoxOffice/1_000_000, bins=15)\n",
    "plt.show()"
   ]
  },
  {
   "cell_type": "code",
   "execution_count": 38,
   "metadata": {},
   "outputs": [
    {
     "data": {
      "text/html": [
       "<div>\n",
       "<style scoped>\n",
       "    .dataframe tbody tr th:only-of-type {\n",
       "        vertical-align: middle;\n",
       "    }\n",
       "\n",
       "    .dataframe tbody tr th {\n",
       "        vertical-align: top;\n",
       "    }\n",
       "\n",
       "    .dataframe thead th {\n",
       "        text-align: right;\n",
       "    }\n",
       "</style>\n",
       "<table border=\"1\" class=\"dataframe\">\n",
       "  <thead>\n",
       "    <tr style=\"text-align: right;\">\n",
       "      <th></th>\n",
       "      <th>RTCritic</th>\n",
       "      <th>RTFan</th>\n",
       "      <th>Metacritic</th>\n",
       "      <th>BoxOffice</th>\n",
       "      <th>Year</th>\n",
       "      <th>primaryTitle</th>\n",
       "      <th>tconst</th>\n",
       "    </tr>\n",
       "  </thead>\n",
       "  <tbody>\n",
       "    <tr>\n",
       "      <th>229</th>\n",
       "      <td>93</td>\n",
       "      <td>74</td>\n",
       "      <td>90</td>\n",
       "      <td>150117807</td>\n",
       "      <td>2013</td>\n",
       "      <td>American Hustle</td>\n",
       "      <td>tt1800241</td>\n",
       "    </tr>\n",
       "  </tbody>\n",
       "</table>\n",
       "</div>"
      ],
      "text/plain": [
       "     RTCritic  RTFan  Metacritic  BoxOffice  Year     primaryTitle     tconst\n",
       "229        93     74          90  150117807  2013  American Hustle  tt1800241"
      ]
     },
     "execution_count": 38,
     "metadata": {},
     "output_type": "execute_result"
    }
   ],
   "source": [
    "box_office.loc[box_office.Metacritic == box_office.Metacritic.max()]"
   ]
  },
  {
   "cell_type": "code",
   "execution_count": 28,
   "metadata": {},
   "outputs": [
    {
     "data": {
      "text/plain": [
       "90"
      ]
     },
     "execution_count": 28,
     "metadata": {},
     "output_type": "execute_result"
    }
   ],
   "source": [
    "box_office.Metacritic.max()"
   ]
  },
  {
   "cell_type": "code",
   "execution_count": 29,
   "metadata": {},
   "outputs": [
    {
     "data": {
      "text/plain": [
       "13"
      ]
     },
     "execution_count": 29,
     "metadata": {},
     "output_type": "execute_result"
    }
   ],
   "source": [
    "box_office.Metacritic.min()"
   ]
  },
  {
   "cell_type": "code",
   "execution_count": 30,
   "metadata": {},
   "outputs": [
    {
     "data": {
      "text/plain": [
       "52.61538461538461"
      ]
     },
     "execution_count": 30,
     "metadata": {},
     "output_type": "execute_result"
    }
   ],
   "source": [
    "box_office.Metacritic.mean()"
   ]
  },
  {
   "cell_type": "code",
   "execution_count": 31,
   "metadata": {},
   "outputs": [
    {
     "data": {
      "text/plain": [
       "16.841818581936252"
      ]
     },
     "execution_count": 31,
     "metadata": {},
     "output_type": "execute_result"
    }
   ],
   "source": [
    "box_office.Metacritic.std()"
   ]
  },
  {
   "cell_type": "code",
   "execution_count": 36,
   "metadata": {},
   "outputs": [
    {
     "data": {
      "text/plain": [
       "92"
      ]
     },
     "execution_count": 36,
     "metadata": {},
     "output_type": "execute_result"
    }
   ],
   "source": [
    "box_office.RTFan.max()"
   ]
  },
  {
   "cell_type": "code",
   "execution_count": 37,
   "metadata": {},
   "outputs": [
    {
     "data": {
      "text/plain": [
       "18"
      ]
     },
     "execution_count": 37,
     "metadata": {},
     "output_type": "execute_result"
    }
   ],
   "source": [
    "box_office.RTFan.min()"
   ]
  },
  {
   "cell_type": "code",
   "execution_count": 38,
   "metadata": {},
   "outputs": [
    {
     "data": {
      "text/plain": [
       "58.80995475113122"
      ]
     },
     "execution_count": 38,
     "metadata": {},
     "output_type": "execute_result"
    }
   ],
   "source": [
    "box_office.RTFan.mean()"
   ]
  },
  {
   "cell_type": "code",
   "execution_count": 40,
   "metadata": {},
   "outputs": [
    {
     "data": {
      "text/plain": [
       "18.438598115162886"
      ]
     },
     "execution_count": 40,
     "metadata": {},
     "output_type": "execute_result"
    }
   ],
   "source": [
    "box_office.RTFan.std()"
   ]
  },
  {
   "cell_type": "markdown",
   "metadata": {},
   "source": [
    "Видимо, пользователи более склонны оценивать позитивно сильно понравившиеся им фильмы и вообще в целом ставят более высокую оценку"
   ]
  },
  {
   "cell_type": "code",
   "execution_count": 24,
   "metadata": {},
   "outputs": [
    {
     "data": {
      "image/png": "[encoded data removed]",
      "text/plain": [
       "<Figure size 432x288 with 1 Axes>"
      ]
     },
     "metadata": {
      "needs_background": "light"
     },
     "output_type": "display_data"
    }
   ],
   "source": [
    "plt.hist([box_office.Metacritic, box_office.RTFan], bins=15)\n",
    "plt.show()"
   ]
  },
  {
   "cell_type": "code",
   "execution_count": 60,
   "metadata": {},
   "outputs": [
    {
     "data": {
      "text/html": [
       "<div>\n",
       "<style scoped>\n",
       "    .dataframe tbody tr th:only-of-type {\n",
       "        vertical-align: middle;\n",
       "    }\n",
       "\n",
       "    .dataframe tbody tr th {\n",
       "        vertical-align: top;\n",
       "    }\n",
       "\n",
       "    .dataframe thead th {\n",
       "        text-align: right;\n",
       "    }\n",
       "</style>\n",
       "<table border=\"1\" class=\"dataframe\">\n",
       "  <thead>\n",
       "    <tr style=\"text-align: right;\">\n",
       "      <th></th>\n",
       "      <th>RTCritic</th>\n",
       "      <th>RTFan</th>\n",
       "      <th>Metacritic</th>\n",
       "      <th>BoxOffice</th>\n",
       "      <th>Year</th>\n",
       "      <th>primaryTitle</th>\n",
       "      <th>tconst</th>\n",
       "    </tr>\n",
       "  </thead>\n",
       "  <tbody>\n",
       "    <tr>\n",
       "      <th>61</th>\n",
       "      <td>84</td>\n",
       "      <td>92</td>\n",
       "      <td>74</td>\n",
       "      <td>2086345</td>\n",
       "      <td>2004</td>\n",
       "      <td>The Sea Inside</td>\n",
       "      <td>tt0369702</td>\n",
       "    </tr>\n",
       "  </tbody>\n",
       "</table>\n",
       "</div>"
      ],
      "text/plain": [
       "    RTCritic  RTFan  Metacritic  BoxOffice  Year    primaryTitle     tconst\n",
       "61        84     92          74    2086345  2004  The Sea Inside  tt0369702"
      ]
     },
     "execution_count": 60,
     "metadata": {},
     "output_type": "execute_result"
    }
   ],
   "source": [
    "box_office.loc[box_office.RTFan == box_office.RTFan.max()]"
   ]
  },
  {
   "cell_type": "code",
   "execution_count": 68,
   "metadata": {},
   "outputs": [],
   "source": [
    "box_office_copy = box_office.copy()\n",
    "box_office_copy['diff'] = box_office.RTFan - box_office.Metacritic\n",
    "box_office_copy['diff'] = abs(box_office_copy['diff'])"
   ]
  },
  {
   "cell_type": "code",
   "execution_count": 83,
   "metadata": {},
   "outputs": [
    {
     "data": {
      "text/html": [
       "<div>\n",
       "<style scoped>\n",
       "    .dataframe tbody tr th:only-of-type {\n",
       "        vertical-align: middle;\n",
       "    }\n",
       "\n",
       "    .dataframe tbody tr th {\n",
       "        vertical-align: top;\n",
       "    }\n",
       "\n",
       "    .dataframe thead th {\n",
       "        text-align: right;\n",
       "    }\n",
       "</style>\n",
       "<table border=\"1\" class=\"dataframe\">\n",
       "  <thead>\n",
       "    <tr style=\"text-align: right;\">\n",
       "      <th></th>\n",
       "      <th>RTCritic</th>\n",
       "      <th>RTFan</th>\n",
       "      <th>Metacritic</th>\n",
       "      <th>BoxOffice</th>\n",
       "      <th>Year</th>\n",
       "      <th>primaryTitle</th>\n",
       "      <th>tconst</th>\n",
       "      <th>diff</th>\n",
       "    </tr>\n",
       "  </thead>\n",
       "  <tbody>\n",
       "    <tr>\n",
       "      <th>159</th>\n",
       "      <td>40</td>\n",
       "      <td>82</td>\n",
       "      <td>28</td>\n",
       "      <td>33456317</td>\n",
       "      <td>2008</td>\n",
       "      <td>Fireproof</td>\n",
       "      <td>tt1129423</td>\n",
       "      <td>54</td>\n",
       "    </tr>\n",
       "  </tbody>\n",
       "</table>\n",
       "</div>"
      ],
      "text/plain": [
       "     RTCritic  RTFan  Metacritic  BoxOffice  Year primaryTitle     tconst  \\\n",
       "159        40     82          28   33456317  2008    Fireproof  tt1129423   \n",
       "\n",
       "     diff  \n",
       "159    54  "
      ]
     },
     "execution_count": 83,
     "metadata": {},
     "output_type": "execute_result"
    }
   ],
   "source": [
    "box_office_copy.loc[box_office_copy['diff'] == box_office_copy['diff'].max()]"
   ]
  },
  {
   "cell_type": "code",
   "execution_count": 40,
   "metadata": {},
   "outputs": [
    {
     "data": {
      "text/html": [
       "<div>\n",
       "<style scoped>\n",
       "    .dataframe tbody tr th:only-of-type {\n",
       "        vertical-align: middle;\n",
       "    }\n",
       "\n",
       "    .dataframe tbody tr th {\n",
       "        vertical-align: top;\n",
       "    }\n",
       "\n",
       "    .dataframe thead th {\n",
       "        text-align: right;\n",
       "    }\n",
       "</style>\n",
       "<table border=\"1\" class=\"dataframe\">\n",
       "  <thead>\n",
       "    <tr style=\"text-align: right;\">\n",
       "      <th></th>\n",
       "      <th>tconst</th>\n",
       "      <th>nconst</th>\n",
       "      <th>category</th>\n",
       "    </tr>\n",
       "  </thead>\n",
       "  <tbody>\n",
       "    <tr>\n",
       "      <th>774015</th>\n",
       "      <td>tt0383574</td>\n",
       "      <td>nm0000988</td>\n",
       "      <td>producer</td>\n",
       "    </tr>\n",
       "    <tr>\n",
       "      <th>774016</th>\n",
       "      <td>tt0383574</td>\n",
       "      <td>nm0893659</td>\n",
       "      <td>director</td>\n",
       "    </tr>\n",
       "    <tr>\n",
       "      <th>774017</th>\n",
       "      <td>tt0383574</td>\n",
       "      <td>nm0254645</td>\n",
       "      <td>writer</td>\n",
       "    </tr>\n",
       "    <tr>\n",
       "      <th>774018</th>\n",
       "      <td>tt0383574</td>\n",
       "      <td>nm0744429</td>\n",
       "      <td>writer</td>\n",
       "    </tr>\n",
       "    <tr>\n",
       "      <th>774019</th>\n",
       "      <td>tt0383574</td>\n",
       "      <td>nm0064181</td>\n",
       "      <td>writer</td>\n",
       "    </tr>\n",
       "    <tr>\n",
       "      <th>774020</th>\n",
       "      <td>tt0383574</td>\n",
       "      <td>nm0938684</td>\n",
       "      <td>writer</td>\n",
       "    </tr>\n",
       "  </tbody>\n",
       "</table>\n",
       "</div>"
      ],
      "text/plain": [
       "           tconst     nconst  category\n",
       "774015  tt0383574  nm0000988  producer\n",
       "774016  tt0383574  nm0893659  director\n",
       "774017  tt0383574  nm0254645    writer\n",
       "774018  tt0383574  nm0744429    writer\n",
       "774019  tt0383574  nm0064181    writer\n",
       "774020  tt0383574  nm0938684    writer"
      ]
     },
     "execution_count": 40,
     "metadata": {},
     "output_type": "execute_result"
    }
   ],
   "source": [
    "crew.loc[crew.tconst == 'tt0383574']"
   ]
  },
  {
   "cell_type": "code",
   "execution_count": 42,
   "metadata": {},
   "outputs": [
    {
     "data": {
      "text/html": [
       "<div>\n",
       "<style scoped>\n",
       "    .dataframe tbody tr th:only-of-type {\n",
       "        vertical-align: middle;\n",
       "    }\n",
       "\n",
       "    .dataframe tbody tr th {\n",
       "        vertical-align: top;\n",
       "    }\n",
       "\n",
       "    .dataframe thead th {\n",
       "        text-align: right;\n",
       "    }\n",
       "</style>\n",
       "<table border=\"1\" class=\"dataframe\">\n",
       "  <thead>\n",
       "    <tr style=\"text-align: right;\">\n",
       "      <th></th>\n",
       "      <th>nconst</th>\n",
       "      <th>primaryName</th>\n",
       "      <th>primaryProfession</th>\n",
       "      <th>knownForTitles</th>\n",
       "    </tr>\n",
       "  </thead>\n",
       "  <tbody>\n",
       "    <tr>\n",
       "      <th>212777</th>\n",
       "      <td>nm0893659</td>\n",
       "      <td>Gore Verbinski</td>\n",
       "      <td>director,producer,writer</td>\n",
       "      <td>tt0325980,tt1192628,tt1210819,tt4731136</td>\n",
       "    </tr>\n",
       "  </tbody>\n",
       "</table>\n",
       "</div>"
      ],
      "text/plain": [
       "           nconst     primaryName         primaryProfession  \\\n",
       "212777  nm0893659  Gore Verbinski  director,producer,writer   \n",
       "\n",
       "                                 knownForTitles  \n",
       "212777  tt0325980,tt1192628,tt1210819,tt4731136  "
      ]
     },
     "execution_count": 42,
     "metadata": {},
     "output_type": "execute_result"
    }
   ],
   "source": [
    "names.loc[names.nconst == 'nm0893659']"
   ]
  },
  {
   "cell_type": "code",
   "execution_count": 34,
   "metadata": {},
   "outputs": [],
   "source": [
    "verbinski_movies = crew.loc[crew.nconst == 'nm0893659']"
   ]
  },
  {
   "cell_type": "code",
   "execution_count": 35,
   "metadata": {},
   "outputs": [
    {
     "name": "stdout",
     "output_type": "stream",
     "text": [
      "364.36 Million\n"
     ]
    }
   ],
   "source": [
    "print(f\"{box_office.loc[box_office['tconst'].isin(verbinski_movies.tconst)]['BoxOffice'].mean()/1_000_000:.2f} Million\")"
   ]
  },
  {
   "cell_type": "code",
   "execution_count": null,
   "metadata": {},
   "outputs": [],
   "source": []
  }
 ],
 "metadata": {
  "kernelspec": {
   "display_name": "Python 3",
   "language": "python",
   "name": "python3"
  },
  "language_info": {
   "codemirror_mode": {
    "name": "ipython",
    "version": 3
   },
   "file_extension": ".py",
   "mimetype": "text/x-python",
   "name": "python",
   "nbconvert_exporter": "python",
   "pygments_lexer": "ipython3",
   "version": "3.7.1"
  }
 },
 "nbformat": 4,
 "nbformat_minor": 2
}
