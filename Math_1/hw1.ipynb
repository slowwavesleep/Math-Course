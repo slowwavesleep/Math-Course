{
 "cells": [
  {
   "cell_type": "markdown",
   "metadata": {},
   "source": [
    "<h1><center>Урок 1</center></h1>"
   ]
  },
  {
   "cell_type": "markdown",
   "metadata": {},
   "source": [
    "### Задание 1\n",
    "Вычислите:\n",
    "\n",
    "$\n",
    "\\begin{align}\n",
    "7*\n",
    "\\begin{bmatrix}\n",
    "5 & 10\\\\\n",
    "7 & 12\\\\\n",
    "11.3 & 5\\\\\n",
    "25 & 30\n",
    "\\end{bmatrix}\n",
    "+2*\n",
    "\\begin{bmatrix}\n",
    "5 & 10\\\\\n",
    "7 & 12\\\\\n",
    "11.3 & 5\\\\\n",
    "25 & 30\n",
    "\\end{bmatrix}\n",
    "\\end{align}\n",
    "$"
   ]
  },
  {
   "cell_type": "markdown",
   "metadata": {},
   "source": [
    "#### Решение:\n",
    "\n",
    "$\n",
    "\\begin{align}\n",
    "7*\n",
    "\\begin{bmatrix}\n",
    "5 & 10\\\\\n",
    "7 & 12\\\\\n",
    "11.3 & 5\\\\\n",
    "25 & 30\n",
    "\\end{bmatrix}\n",
    "+2*\n",
    "\\begin{bmatrix}\n",
    "5 & 10\\\\\n",
    "7 & 12\\\\\n",
    "11.3 & 5\\\\\n",
    "25 & 30\n",
    "\\end{bmatrix}\n",
    "=\n",
    "9*\n",
    "\\begin{bmatrix}\n",
    "5 & 10\\\\\n",
    "7 & 12\\\\\n",
    "11.3 & 5\\\\\n",
    "25 & 30\n",
    "\\end{bmatrix}\n",
    "=\n",
    "\\begin{bmatrix}\n",
    "45 & 90\\\\\n",
    "63 & 108\\\\\n",
    "101.7 & 45\\\\\n",
    "225 & 270\n",
    "\\end{bmatrix}\n",
    "\\end{align}\n",
    "$"
   ]
  },
  {
   "cell_type": "markdown",
   "metadata": {},
   "source": [
    "#### Проверка:"
   ]
  },
  {
   "cell_type": "code",
   "execution_count": 146,
   "metadata": {},
   "outputs": [
    {
     "data": {
      "text/plain": [
       "array([[ 5. , 10. ],\n",
       "       [ 7. , 12. ],\n",
       "       [11.3,  5. ],\n",
       "       [25. , 30. ]])"
      ]
     },
     "execution_count": 146,
     "metadata": {},
     "output_type": "execute_result"
    }
   ],
   "source": [
    "import numpy as np\n",
    "original = np.array([[5, 7, 11.3, 25], [10, 12, 5, 30]]).T\n",
    "original"
   ]
  },
  {
   "cell_type": "code",
   "execution_count": 147,
   "metadata": {},
   "outputs": [
    {
     "data": {
      "text/plain": [
       "array([[ 45. ,  90. ],\n",
       "       [ 63. , 108. ],\n",
       "       [101.7,  45. ],\n",
       "       [225. , 270. ]])"
      ]
     },
     "execution_count": 147,
     "metadata": {},
     "output_type": "execute_result"
    }
   ],
   "source": [
    "result = np.array([[45, 63, 101.7, 225], [90, 108, 45, 270]]).T\n",
    "result"
   ]
  },
  {
   "cell_type": "code",
   "execution_count": 148,
   "metadata": {},
   "outputs": [
    {
     "data": {
      "text/plain": [
       "array([[ 45. ,  90. ],\n",
       "       [ 63. , 108. ],\n",
       "       [101.7,  45. ],\n",
       "       [225. , 270. ]])"
      ]
     },
     "execution_count": 148,
     "metadata": {},
     "output_type": "execute_result"
    }
   ],
   "source": [
    "original*7 + original*2"
   ]
  },
  {
   "cell_type": "markdown",
   "metadata": {},
   "source": [
    "#### Ответ: <br>\n",
    "$\n",
    "\\begin{align}\n",
    "\\begin{bmatrix}\n",
    "45 & 90\\\\\n",
    "63 & 108\\\\\n",
    "101.7 & 45\\\\\n",
    "225 & 270\n",
    "\\end{bmatrix}\n",
    "\\end{align}\n",
    "$"
   ]
  },
  {
   "cell_type": "markdown",
   "metadata": {},
   "source": [
    "### Задание 2\n",
    "1) Решите систему уравнений: <br>\n",
    "\n",
    "$\n",
    "\\begin{align}\n",
    "\\begin{cases}\n",
    "3x-2y+5z=7\\\\ \n",
    "7x+4y-8z=3\\\\ \n",
    "5x-3y-4z=-12\n",
    "\\end{cases}\n",
    "\\end{align}\n",
    "$\n",
    "\n",
    "<br>\n",
    "Линейная или нелинейная это система?<br>\n",
    "А каждое уравнение по отдельности?"
   ]
  },
  {
   "cell_type": "markdown",
   "metadata": {},
   "source": [
    "Каждое уравнение по отдельности здесь линейное, значит, и система линейная."
   ]
  },
  {
   "cell_type": "markdown",
   "metadata": {},
   "source": [
    "#### Решение:\n",
    "$$\n",
    "\\begin{cases}\n",
    "3x-2y+5z=7\\\\ \n",
    "7x+4y-8z=3\\\\ \n",
    "5x-3y-4z=-12\n",
    "\\end{cases}\n",
    "=\n",
    "\\begin{cases}\n",
    "x=\\frac{7+2y-5z}{3}\\\\ \n",
    "7x+4y-8z=3\\\\ \n",
    "5x-3y-4z=-12\n",
    "\\end{cases}\n",
    "=\n",
    "\\begin{cases}\n",
    "x=\\frac{7+2y-5z}{3}\\\\ \n",
    "7x+4y-8z=3\\\\ \n",
    "5*(\\frac{7+2y-5z}{3})-3y-4z=-12\n",
    "\\end{cases}\n",
    "=\n",
    "\\begin{cases}\n",
    "x=\\frac{7+2y-5z}{3}\\\\ \n",
    "7x+4y-8z=3\\\\ \n",
    "\\frac{35+10y-25z}{3}-3y-4z=-12\n",
    "\\end{cases}\n",
    "=\n",
    "\\begin{cases}\n",
    "x=\\frac{7+2y-5z}{3}\\\\ \n",
    "7x+4y-8z=3\\\\ \n",
    "35+10y-25z-9y-12z=-36\n",
    "\\end{cases}\n",
    "=\n",
    "\\begin{cases}\n",
    "x=\\frac{7+2y-5z}{3}\\\\ \n",
    "7x+4y-8z=3\\\\ \n",
    "y=37z-71\n",
    "\\end{cases}\n",
    "=\n",
    "\\begin{cases}\n",
    "x=\\frac{7+2*(37z-71)-5z}{3}\\\\ \n",
    "7x+4y-8z=3\\\\ \n",
    "y=37z-71\n",
    "\\end{cases}\n",
    "=\n",
    "\\begin{cases}\n",
    "x=\\frac{69z-135}{3}\\\\ \n",
    "7x+4y-8z=3\\\\ \n",
    "y=37z-71\n",
    "\\end{cases}\n",
    "=\n",
    "\\begin{cases}\n",
    "x=23z-45\\\\ \n",
    "7x+4y-8z=3\\\\ \n",
    "y=37z-71\n",
    "\\end{cases}\n",
    "=\n",
    "\\begin{cases}\n",
    "x=23z-45\\\\ \n",
    "7*(23z-45)+4*(37z-71)-8z=3\\\\ \n",
    "y=37z-71\n",
    "\\end{cases}\n",
    "=\n",
    "\\begin{cases}\n",
    "x=23z-45\\\\ \n",
    "161z-315+148z-284-8z=3\\\\ \n",
    "y=37z-71\n",
    "\\end{cases}\n",
    "=\n",
    "\\begin{cases}\n",
    "x=23z-45\\\\ \n",
    "301z=602\\\\ \n",
    "y=37z-71\n",
    "\\end{cases}\n",
    "=\n",
    "\\begin{cases}\n",
    "x=46-45\\\\ \n",
    "z=2\\\\ \n",
    "y=74-71\n",
    "\\end{cases}\n",
    "=\n",
    "\\begin{cases}\n",
    "x=1\\\\ \n",
    "z=2\\\\ \n",
    "y=3\n",
    "\\end{cases}\n",
    "$$"
   ]
  },
  {
   "cell_type": "markdown",
   "metadata": {},
   "source": [
    "#### Проверка:"
   ]
  },
  {
   "cell_type": "code",
   "execution_count": 149,
   "metadata": {},
   "outputs": [],
   "source": [
    "x, y, z = 1, 3, 2"
   ]
  },
  {
   "cell_type": "code",
   "execution_count": 150,
   "metadata": {},
   "outputs": [
    {
     "data": {
      "text/plain": [
       "True"
      ]
     },
     "execution_count": 150,
     "metadata": {},
     "output_type": "execute_result"
    }
   ],
   "source": [
    "(3*x - 2*y + 5*z == 7) & (7*x + 4*y - 8*z == 3) & (5*x - 3*y - 4*z == -12)"
   ]
  },
  {
   "cell_type": "markdown",
   "metadata": {},
   "source": [
    "#### Ответ:\n",
    "$\n",
    "\\begin{align}\n",
    "x=1,\\\\\n",
    "y=3,\\\\\n",
    "z=2.\n",
    "\\end{align}\n",
    "$"
   ]
  },
  {
   "cell_type": "markdown",
   "metadata": {},
   "source": [
    "2) Решите систему уравнений:<br>\n",
    "\n",
    "$\n",
    "\\begin{align}\n",
    "\\begin{cases}\n",
    "x^2+yx-9=0; \\\\ \n",
    "x-\\frac{y}{5}=0. \n",
    "\\end{cases}\n",
    "\\end{align}\n",
    "$\n",
    "\n",
    "Линейная или нелинейная это система? А каждое уравнение?"
   ]
  },
  {
   "cell_type": "markdown",
   "metadata": {},
   "source": [
    "Первое уравнение нелинейное, а второе – линейное. Система нелинейная, потому что содержит нелинейное уравнение."
   ]
  },
  {
   "cell_type": "markdown",
   "metadata": {},
   "source": [
    "#### Решение:"
   ]
  },
  {
   "cell_type": "markdown",
   "metadata": {},
   "source": [
    "$$\n",
    "\\begin{cases}\n",
    "x^2 +yx-9=0\\\\\n",
    "x-\\frac{y}{5}=0\n",
    "\\end{cases}\n",
    "=\n",
    "\\begin{cases}\n",
    "x^2+yx-9 = 0\\\\\n",
    "x=\\frac{y}{5}\n",
    "\\end{cases}\n",
    "=\n",
    "\\begin{cases}\n",
    "(\\frac{y}{5})^2 +y*(\\frac{y}{5})-9=0\\\\\n",
    "x=\\frac{y}{5}\n",
    "\\end{cases}\n",
    "=\n",
    "\\begin{cases}\n",
    "\\frac{y^2}{25}+\\frac{y^2}{5}-9=0\\\\\n",
    "x=\\frac{y}{5}\n",
    "\\end{cases}\n",
    "=\n",
    "\\begin{cases}\n",
    "\\frac{6}{25}y^2=9\\\\\n",
    "x=\\frac{y}{5}\n",
    "\\end{cases}\n",
    "=\n",
    "\\begin{cases}\n",
    "y^2=\\frac{75}{2}\\\\\n",
    "x=\\frac{y}{5}\n",
    "\\end{cases}\n",
    "=\n",
    "\\begin{cases}\n",
    "y_1=5*\\sqrt{\\frac{3}{2}}\\\\\n",
    "y_2=-5*\\sqrt{\\frac{3}{2}}\\\\\n",
    "x=\\frac{y}{5}\n",
    "\\end{cases}\n",
    "=\n",
    "\\begin{cases}\n",
    "y_1=5*\\sqrt{\\frac{3}{2}}\\\\\n",
    "y_2=-5*\\sqrt{\\frac{3}{2}}\\\\\n",
    "x_1=\\sqrt{\\frac{3}{2}}\\\\\n",
    "x_2=-\\sqrt{\\frac{3}{2}}\\\\\n",
    "\\end{cases}\n",
    "$$"
   ]
  },
  {
   "cell_type": "markdown",
   "metadata": {},
   "source": [
    "#### Проверка:"
   ]
  },
  {
   "cell_type": "code",
   "execution_count": 151,
   "metadata": {},
   "outputs": [],
   "source": [
    "from math import sqrt\n",
    "from fractions import Fraction as frac"
   ]
  },
  {
   "cell_type": "code",
   "execution_count": 152,
   "metadata": {},
   "outputs": [],
   "source": [
    "x_1 = sqrt(frac(3,2))\n",
    "y_1 = 5*sqrt(frac(3,2))\n",
    "x_2 = -sqrt(frac(3,2))\n",
    "y_2 = -5*sqrt(frac(3,2))"
   ]
  },
  {
   "cell_type": "markdown",
   "metadata": {},
   "source": [
    "Здесь необходимо округление, иначе правильный результат получить нельзя."
   ]
  },
  {
   "cell_type": "code",
   "execution_count": 153,
   "metadata": {},
   "outputs": [
    {
     "data": {
      "text/plain": [
       "True"
      ]
     },
     "execution_count": 153,
     "metadata": {},
     "output_type": "execute_result"
    }
   ],
   "source": [
    "x, y = x_1, y_1\n",
    "(round(x**2 + y*x - 9) == 0) & (x - (y/5) == 0)"
   ]
  },
  {
   "cell_type": "code",
   "execution_count": 154,
   "metadata": {},
   "outputs": [
    {
     "data": {
      "text/plain": [
       "True"
      ]
     },
     "execution_count": 154,
     "metadata": {},
     "output_type": "execute_result"
    }
   ],
   "source": [
    "x, y = x_2, y_2\n",
    "(round(x**2 + y*x - 9) == 0) & (x - (y/5) == 0)"
   ]
  },
  {
   "cell_type": "markdown",
   "metadata": {},
   "source": [
    "#### Ответ:\n",
    "\n",
    "$\n",
    "\\begin{align}\n",
    "\\begin{cases}\n",
    "x_1=\\sqrt{\\frac{3}{2}}\\\\\n",
    "y_1=5*\\sqrt{\\frac{3}{2}}\\\\\n",
    "x_2=-\\sqrt{\\frac{3}{2}}\\\\\n",
    "y_2=-5*\\sqrt{\\frac{3}{2}}\\\\\n",
    "\\end{cases}\n",
    "\\end{align}\n",
    "$"
   ]
  },
  {
   "cell_type": "markdown",
   "metadata": {},
   "source": [
    "### Задание 3"
   ]
  },
  {
   "cell_type": "markdown",
   "metadata": {},
   "source": [
    "Площадь пола прямоугольной комнаты равна 48 м$^2$, а его периметр равен 28 м. Найдите длину и ширину комнаты."
   ]
  },
  {
   "cell_type": "markdown",
   "metadata": {},
   "source": [
    "Длина – l, ширина – w. Площадь – l * w, а периметр – 2 * (l + w)"
   ]
  },
  {
   "cell_type": "markdown",
   "metadata": {},
   "source": [
    "$$\n",
    "\\begin{cases}\n",
    "l*w=48\\\\\n",
    "2*(l+w)=28\n",
    "\\end{cases}\n",
    "=\n",
    "\\begin{cases}\n",
    "l*w=48\\\\\n",
    "l=14-w\n",
    "\\end{cases}\n",
    "=\n",
    "\\begin{cases}\n",
    "(14-w)*w=48\\\\\n",
    "l=14-w\n",
    "\\end{cases}\n",
    "=\n",
    "\\begin{cases}\n",
    "14w-w^2=48\\\\\n",
    "l=14-w\n",
    "\\end{cases}\n",
    "=\n",
    "\\begin{cases}\n",
    "w^2-14w+48=0\\\\\n",
    "l=14-w\n",
    "\\end{cases}\n",
    "=\n",
    "\\begin{cases}\n",
    "w_1=\\frac{14+\\sqrt{196-192}}{2}\\\\\n",
    "w_2=\\frac{14-\\sqrt{196-192}}{2}\\\\\n",
    "l=14-w\n",
    "\\end{cases}\n",
    "=\n",
    "\\begin{cases}\n",
    "w_1=8\\\\\n",
    "l_1=6\\\\\n",
    "w_2=6\\\\\n",
    "l_2=8\n",
    "\\end{cases}\n",
    "$$"
   ]
  },
  {
   "cell_type": "markdown",
   "metadata": {},
   "source": [
    "#### Ответ:<br>\n",
    "$\n",
    "\\begin{align}\n",
    "\\begin{cases}\n",
    "w_1=8\\\\\n",
    "l_1=6\\\\\n",
    "w_2=6\\\\\n",
    "l_2=8\n",
    "\\end{cases}\n",
    "\\end{align}\n",
    "$"
   ]
  },
  {
   "cell_type": "markdown",
   "metadata": {},
   "source": [
    "### Задание 4"
   ]
  },
  {
   "cell_type": "markdown",
   "metadata": {},
   "source": [
    "Постройте на одном графике две кривые y(x) для функции двух переменной y(k,x)=cos(k·x), взяв для одной кривой значение k=1, а для другой – любое другое k, не равное 1."
   ]
  },
  {
   "cell_type": "code",
   "execution_count": 32,
   "metadata": {},
   "outputs": [],
   "source": [
    "import matplotlib.pyplot as plt\n",
    "import numpy as np\n",
    "\n",
    "%matplotlib inline"
   ]
  },
  {
   "cell_type": "code",
   "execution_count": 37,
   "metadata": {},
   "outputs": [
    {
     "data": {
      "text/plain": [
       "<matplotlib.legend.Legend at 0x291fbd1a320>"
      ]
     },
     "execution_count": 37,
     "metadata": {},
     "output_type": "execute_result"
    },
    {
     "data": {
      "image/png": "[encoded data removed]",
      "text/plain": [
       "<Figure size 1080x720 with 1 Axes>"
      ]
     },
     "metadata": {
      "needs_background": "light"
     },
     "output_type": "display_data"
    }
   ],
   "source": [
    "x = np.linspace(-10, 10, 200)\n",
    "plt.figure(figsize=(15, 10))\n",
    "plt.xlabel('x', fontdict={'family' : 'Calibri', 'size' : 30})\n",
    "plt.ylabel('y', fontdict={'family' : 'Calibri', 'size' : 30})\n",
    "k = 1\n",
    "plt.plot(x, np.cos(k*x), label=f'cos({k}*x)')\n",
    "k = 0.7\n",
    "plt.plot(x, np.cos(k*x), label=f'cos({k}*x)')\n",
    "plt.legend(prop={'size' : 20}, fancybox=True)"
   ]
  },
  {
   "cell_type": "markdown",
   "metadata": {},
   "source": [
    "<h1><center>Урок 2</center></h1>"
   ]
  },
  {
   "cell_type": "code",
   "execution_count": null,
   "metadata": {},
   "outputs": [],
   "source": []
  }
 ],
 "metadata": {
  "kernelspec": {
   "display_name": "Python 3",
   "language": "python",
   "name": "python3"
  },
  "language_info": {
   "codemirror_mode": {
    "name": "ipython",
    "version": 3
   },
   "file_extension": ".py",
   "mimetype": "text/x-python",
   "name": "python",
   "nbconvert_exporter": "python",
   "pygments_lexer": "ipython3",
   "version": "3.7.1"
  }
 },
 "nbformat": 4,
 "nbformat_minor": 2
}
